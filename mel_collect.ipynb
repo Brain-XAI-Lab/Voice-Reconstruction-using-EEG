{
 "cells": [
  {
   "cell_type": "code",
   "execution_count": 19,
   "id": "aa29a9de-4ba0-4eca-abf8-74daf88f81bb",
   "metadata": {},
   "outputs": [],
   "source": [
    "sub_number = str(1).zfill(3)\n",
    "foundation_path = f\"/home/bxai1/BXAI/Project/NeuroTalk-decoder/Patients/preprocessed/sub{sub_number}/about_voice/sub{sub_number}_mel/\""
   ]
  },
  {
   "cell_type": "code",
   "execution_count": 24,
   "id": "afa54212-a660-4c2c-a688-853ee162f78e",
   "metadata": {},
   "outputs": [
    {
     "data": {
      "text/plain": [
       "torch.Size([468, 80, 172])"
      ]
     },
     "execution_count": 24,
     "metadata": {},
     "output_type": "execute_result"
    }
   ],
   "source": [
    "import os \n",
    "import pandas as pd\n",
    "import numpy as np\n",
    "import pickle as pkl\n",
    "import torch\n",
    "\n",
    "def mel_collect(foundation_path, sub_number):\n",
    "    mel_list = os.listdir(foundation_path)\n",
    "    for file in mel_list:\n",
    "        if file[0] == \".\":\n",
    "            mel_list.remove(file)\n",
    "    sorted_mel_list = sorted(mel_list)\n",
    "    mel_pkl = None\n",
    "    for i,mel in enumerate(sorted_mel_list):\n",
    "        mel_file = torch.tensor(pd.read_csv(os.path.join(foundation_path, mel),header=None).values, dtype = torch.float32).unsqueeze(0)\n",
    "        if mel_pkl is None:\n",
    "            mel_pkl = mel_file\n",
    "        else:\n",
    "            mel_pkl = torch.concat([mel_pkl, mel_file] ,axis = 0)\n",
    "    return mel_pkl\n",
    "\n",
    "mel_collect(foundation_path, sub_number).shape"
   ]
  }
 ],
 "metadata": {
  "kernelspec": {
   "display_name": "Python 3 (ipykernel)",
   "language": "python",
   "name": "python3"
  },
  "language_info": {
   "codemirror_mode": {
    "name": "ipython",
    "version": 3
   },
   "file_extension": ".py",
   "mimetype": "text/x-python",
   "name": "python",
   "nbconvert_exporter": "python",
   "pygments_lexer": "ipython3",
   "version": "3.10.12"
  }
 },
 "nbformat": 4,
 "nbformat_minor": 5
}
